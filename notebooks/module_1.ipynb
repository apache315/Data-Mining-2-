{
 "cells": [
  {
   "cell_type": "markdown",
   "id": "6aebff0c",
   "metadata": {},
   "source": [
    "## Advanced Data-Preprocessing\n"
   ]
  },
  {
   "cell_type": "markdown",
   "id": "e01a6f4c",
   "metadata": {},
   "source": [
    "###     Imbalanced Learning"
   ]
  },
  {
   "cell_type": "markdown",
   "id": "67bb2dff",
   "metadata": {},
   "source": [
    "### Dimensionality Reduction"
   ]
  },
  {
   "cell_type": "markdown",
   "id": "c7fe55aa",
   "metadata": {},
   "source": [
    " ### Anomaly Detection"
   ]
  }
 ],
 "metadata": {
  "language_info": {
   "name": "python"
  }
 },
 "nbformat": 4,
 "nbformat_minor": 5
}
