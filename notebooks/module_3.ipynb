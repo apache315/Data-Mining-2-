{
 "cells": [
  {
   "cell_type": "markdown",
   "id": "e0261135",
   "metadata": {},
   "source": [
    "## Time Series Analysis"
   ]
  },
  {
   "cell_type": "markdown",
   "id": "ea5c9628",
   "metadata": {},
   "source": [
    "### Time Series Similarity"
   ]
  },
  {
   "cell_type": "markdown",
   "id": "0d678efa",
   "metadata": {},
   "source": [
    "### Approximation"
   ]
  },
  {
   "cell_type": "markdown",
   "id": "cea01b14",
   "metadata": {},
   "source": [
    "### Motif"
   ]
  },
  {
   "cell_type": "markdown",
   "id": "288652bb",
   "metadata": {},
   "source": [
    "### Shapelets"
   ]
  },
  {
   "cell_type": "markdown",
   "id": "02685fdd",
   "metadata": {},
   "source": [
    "### Classification"
   ]
  },
  {
   "cell_type": "markdown",
   "id": "0f20efae",
   "metadata": {},
   "source": [
    "### Clustering"
   ]
  }
 ],
 "metadata": {
  "language_info": {
   "name": "python"
  }
 },
 "nbformat": 4,
 "nbformat_minor": 5
}
