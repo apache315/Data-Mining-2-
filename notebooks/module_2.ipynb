{
 "cells": [
  {
   "cell_type": "markdown",
   "id": "3ae219d9",
   "metadata": {},
   "source": [
    "## Advanced ML & XAI"
   ]
  },
  {
   "cell_type": "markdown",
   "id": "00d657df",
   "metadata": {},
   "source": [
    "### Logistic Regression"
   ]
  },
  {
   "cell_type": "markdown",
   "id": "fd64b4f0",
   "metadata": {},
   "source": [
    "### Support Vector Machines\n"
   ]
  },
  {
   "cell_type": "markdown",
   "id": "f5978306",
   "metadata": {},
   "source": [
    "\n",
    "### Neural Networks\n"
   ]
  },
  {
   "cell_type": "markdown",
   "id": "4464ee75",
   "metadata": {},
   "source": [
    "\n",
    "### Ensamble Methods\n"
   ]
  },
  {
   "cell_type": "markdown",
   "id": "a1d49517",
   "metadata": {},
   "source": [
    "\n",
    "### Gradient Boosting\n"
   ]
  },
  {
   "cell_type": "markdown",
   "id": "78afacd2",
   "metadata": {},
   "source": [
    "\n",
    "### Rule-based Classifiers"
   ]
  }
 ],
 "metadata": {
  "language_info": {
   "name": "python"
  }
 },
 "nbformat": 4,
 "nbformat_minor": 5
}
